{
 "cells": [
  {
   "cell_type": "code",
   "execution_count": 1,
   "metadata": {
    "collapsed": true
   },
   "outputs": [],
   "source": [
    "import torch       \n",
    "from torchvision import datasets, transforms\n",
    "from torch.utils.data import Subset\n",
    "import torch.nn as nn\n",
    "\n",
    "import matplotlib.pyplot as plt"
   ]
  },
  {
   "cell_type": "markdown",
   "metadata": {},
   "source": [
    "# 1. define your dataloader"
   ]
  },
  {
   "cell_type": "code",
   "execution_count": 2,
   "metadata": {
    "collapsed": true
   },
   "outputs": [],
   "source": [
    "transform_list = transforms.Compose([transforms.ToTensor(),\n",
    "                                     transforms.Normalize(mean=[0.131], std=[0.289])])\n",
    "dataset = datasets.MNIST(root='../.data/', train=True, download=True, transform=transform_list)\n",
    "dataset = Subset(dataset, range(2000))\n",
    "\n",
    "loader = torch.utils.data.DataLoader(\n",
    "      dataset=dataset,\n",
    "      batch_size=500,\n",
    "      shuffle=False)"
   ]
  },
  {
   "cell_type": "markdown",
   "metadata": {},
   "source": [
    "# 2. define your model"
   ]
  },
  {
   "cell_type": "code",
   "execution_count": 3,
   "metadata": {
    "collapsed": false
   },
   "outputs": [],
   "source": [
    "class Flatten(nn.Module):\n",
    "    def forward(self, input):\n",
    "        return input.flatten(1)\n",
    "\n",
    "n_hidden = 2\n",
    "hidden_size = 10\n",
    "device = 'cpu'\n",
    "layers = [Flatten(), nn.Linear(28 * 28, hidden_size), nn.ReLU()] + \\\n",
    "         [nn.Linear(hidden_size, hidden_size), nn.ReLU()] * (n_hidden - 1) + \\\n",
    "         [nn.Linear(hidden_size, 10), nn.LogSoftmax(dim=1)]\n",
    "model = nn.Sequential(*layers).to(device)"
   ]
  },
  {
   "cell_type": "markdown",
   "metadata": {},
   "source": [
    "# EWC penalty\n",
    "\n",
    "We now compute the matrices coefficients using the generator above. Using different representations we get different performances, and also we use more or less memory. But low memory footprint comes at the price of a less accurate approximation of the FIM, and so the gradient that we get from the penalty can be drastically different."
   ]
  },
  {
   "cell_type": "code",
   "execution_count": 4,
   "metadata": {
    "collapsed": false
   },
   "outputs": [],
   "source": [
    "from nngeometry.nngeometry.representations import KFACMatrix, DiagMatrix, DenseMatrix, BlockDiagMatrix, EKFACMatrix\n",
    "from nngeometry.nngeometry.vector import PVector\n",
    "from nngeometry.nngeometry.metrics import FIM_MonteCarlo1"
   ]
  },
  {
   "cell_type": "markdown",
   "metadata": {},
   "source": [
    "Suppose we now train our model on task 1. We want to store the current state of the network using:\n",
    " 1. the current parameter values `v1`\n",
    " 2. the current Fisher Information Matrix `F_XXX`"
   ]
  },
  {
   "cell_type": "code",
   "execution_count": 7,
   "metadata": {
    "collapsed": true
   },
   "outputs": [],
   "source": [
    "v1 = PVector.from_model(model).clone().detach()\n",
    "F_kfac = FIM_MonteCarlo1(representation=KFACMatrix,\n",
    "                         loader=loader,\n",
    "                         model=model)\n",
    "\n",
    "F_blockdiag = FIM_MonteCarlo1(representation=BlockDiagMatrix,\n",
    "                              loader=loader,\n",
    "                              model=model)\n",
    "\n",
    "F_dense = FIM_MonteCarlo1(representation=DenseMatrix,\n",
    "                          loader=loader,\n",
    "                          model=model)\n",
    "\n",
    "F_diag = FIM_MonteCarlo1(representation=DiagMatrix,\n",
    "                         loader=loader,\n",
    "                         model=model)\n",
    "\n",
    "F_ekfac = FIM_MonteCarlo1(representation=EKFACMatrix,\n",
    "                          loader=loader,\n",
    "                          model=model)\n",
    "F_ekfac.update_diag()"
   ]
  },
  {
   "cell_type": "code",
   "execution_count": null,
   "metadata": {
    "collapsed": true
   },
   "outputs": [],
   "source": [
    "F_kfac"
   ]
  },
  {
   "cell_type": "code",
   "execution_count": 6,
   "metadata": {
    "collapsed": true
   },
   "outputs": [],
   "source": [
    "n_parameters = F_kfac.generator.get_n_parameters()"
   ]
  },
  {
   "cell_type": "markdown",
   "metadata": {},
   "source": [
    "We can now continue training, using an additional regularizer term, that uses the FIM and the difference betweem the current parameter value and `v1`"
   ]
  },
  {
   "cell_type": "code",
   "execution_count": 8,
   "metadata": {
    "collapsed": true
   },
   "outputs": [],
   "source": [
    "v_current = PVector.from_model(model)"
   ]
  },
  {
   "cell_type": "markdown",
   "metadata": {},
   "source": [
    "you can now compute a regularizer scalar object and backward through it"
   ]
  },
  {
   "cell_type": "code",
   "execution_count": 9,
   "metadata": {
    "collapsed": false
   },
   "outputs": [
    {
     "data": {
      "text/plain": [
       "[(torch.Size([10, 784]), tensor([[0., 0., 0.,  ..., 0., 0., 0.],\n",
       "          [0., 0., 0.,  ..., 0., 0., 0.],\n",
       "          [0., 0., 0.,  ..., 0., 0., 0.],\n",
       "          ...,\n",
       "          [0., 0., 0.,  ..., 0., 0., 0.],\n",
       "          [0., 0., 0.,  ..., 0., 0., 0.],\n",
       "          [0., 0., 0.,  ..., 0., 0., 0.]])),\n",
       " (torch.Size([10]), tensor([0., 0., 0., 0., 0., 0., 0., 0., 0., 0.])),\n",
       " (torch.Size([10, 10]), tensor([[0., 0., 0., 0., 0., 0., 0., 0., 0., 0.],\n",
       "          [0., 0., 0., 0., 0., 0., 0., 0., 0., 0.],\n",
       "          [0., 0., 0., 0., 0., 0., 0., 0., 0., 0.],\n",
       "          [0., 0., 0., 0., 0., 0., 0., 0., 0., 0.],\n",
       "          [0., 0., 0., 0., 0., 0., 0., 0., 0., 0.],\n",
       "          [0., 0., 0., 0., 0., 0., 0., 0., 0., 0.],\n",
       "          [0., 0., 0., 0., 0., 0., 0., 0., 0., 0.],\n",
       "          [0., 0., 0., 0., 0., 0., 0., 0., 0., 0.],\n",
       "          [0., 0., 0., 0., 0., 0., 0., 0., 0., 0.],\n",
       "          [0., 0., 0., 0., 0., 0., 0., 0., 0., 0.]])),\n",
       " (torch.Size([10]), tensor([0., 0., 0., 0., 0., 0., 0., 0., 0., 0.])),\n",
       " (torch.Size([10, 10]), tensor([[0., 0., 0., 0., 0., 0., 0., 0., 0., 0.],\n",
       "          [0., 0., 0., 0., 0., 0., 0., 0., 0., 0.],\n",
       "          [0., 0., 0., 0., 0., 0., 0., 0., 0., 0.],\n",
       "          [0., 0., 0., 0., 0., 0., 0., 0., 0., 0.],\n",
       "          [0., 0., 0., 0., 0., 0., 0., 0., 0., 0.],\n",
       "          [0., 0., 0., 0., 0., 0., 0., 0., 0., 0.],\n",
       "          [0., 0., 0., 0., 0., 0., 0., 0., 0., 0.],\n",
       "          [0., 0., 0., 0., 0., 0., 0., 0., 0., 0.],\n",
       "          [0., 0., 0., 0., 0., 0., 0., 0., 0., 0.],\n",
       "          [0., 0., 0., 0., 0., 0., 0., 0., 0., 0.]])),\n",
       " (torch.Size([10]), tensor([0., 0., 0., 0., 0., 0., 0., 0., 0., 0.]))]"
      ]
     },
     "execution_count": 9,
     "metadata": {},
     "output_type": "execute_result"
    }
   ],
   "source": [
    "regularizer_dense = F_dense.vTMv(v_current - v1)\n",
    "regularizer_dense.backward()\n",
    "[(p.size(), p.grad) for p in model.parameters()]"
   ]
  },
  {
   "cell_type": "markdown",
   "metadata": {},
   "source": [
    "note that in this case all gradients stay at `0`, because `v_current = v1`, so for the purpose of this example, we will modify the value of `v_current`. You can think of this modification as resulting from SGD updates on the first iterations of training on task 2."
   ]
  },
  {
   "cell_type": "code",
   "execution_count": 10,
   "metadata": {
    "collapsed": true
   },
   "outputs": [],
   "source": [
    "for p in model.parameters():\n",
    "    p.data.add_(torch.randn_like(p))"
   ]
  },
  {
   "cell_type": "markdown",
   "metadata": {},
   "source": [
    "We now recompute the gradients from the regularizer:"
   ]
  },
  {
   "cell_type": "code",
   "execution_count": 11,
   "metadata": {
    "collapsed": false
   },
   "outputs": [
    {
     "data": {
      "text/plain": [
       "[(torch.Size([10, 784]),\n",
       "  tensor([[ 0.0063,  0.0063,  0.0063,  ...,  0.0063,  0.0063,  0.0063],\n",
       "          [-0.0208, -0.0208, -0.0208,  ..., -0.0208, -0.0208, -0.0208],\n",
       "          [ 0.0445,  0.0445,  0.0445,  ...,  0.0445,  0.0445,  0.0445],\n",
       "          ...,\n",
       "          [-0.0347, -0.0347, -0.0347,  ..., -0.0347, -0.0347, -0.0347],\n",
       "          [ 0.0030,  0.0030,  0.0030,  ...,  0.0030,  0.0030,  0.0030],\n",
       "          [-0.0199, -0.0199, -0.0199,  ..., -0.0199, -0.0199, -0.0199]])),\n",
       " (torch.Size([10]),\n",
       "  tensor([-0.0139,  0.0458, -0.0983, -0.0546,  0.1555,  0.0057,  0.0844,  0.0766,\n",
       "          -0.0066,  0.0439])),\n",
       " (torch.Size([10, 10]),\n",
       "  tensor([[ 1.0168e-02,  5.7981e-02,  3.9742e-04,  7.5618e-02,  5.0058e-02,\n",
       "            1.9567e-02,  6.8715e-02,  2.5859e-02, -1.7546e-04, -1.4914e-03],\n",
       "          [-1.3681e-02, -1.3471e-02, -1.2331e-02, -1.5503e-02,  7.0392e-03,\n",
       "            3.2765e-03,  1.7308e-03,  9.4715e-03, -2.0885e-03,  1.8633e-03],\n",
       "          [-3.6515e-03, -2.4311e-02, -6.2564e-03, -3.2900e-02, -1.4842e-02,\n",
       "           -9.8154e-03, -1.8556e-03, -6.9614e-02,  5.5563e-04, -8.5184e-03],\n",
       "          [ 1.4394e-02,  5.6867e-03,  3.5885e-03,  6.1658e-03, -4.0223e-03,\n",
       "           -1.3452e-03,  3.7350e-03,  4.5224e-04,  6.0324e-04,  3.4160e-03],\n",
       "          [-1.8236e-02, -3.0339e-02, -1.8280e-02, -3.5199e-02, -2.3434e-02,\n",
       "           -1.0563e-02, -4.1073e-02,  1.4258e-03,  6.0725e-05, -1.4103e-02],\n",
       "          [ 7.3865e-03,  3.0936e-03,  1.0179e-02,  1.9282e-03, -2.0684e-03,\n",
       "           -4.6345e-04,  2.4747e-03, -2.7020e-05,  4.2242e-05, -1.2129e-04],\n",
       "          [ 2.1009e-02,  5.3534e-02,  1.1245e-02,  5.3981e-02,  6.3226e-02,\n",
       "            8.9993e-03,  6.1234e-02,  1.1196e-01,  4.0368e-04,  3.4024e-02],\n",
       "          [ 4.1679e-02,  6.9970e-02,  2.4940e-02,  5.5971e-02,  4.3103e-02,\n",
       "           -2.0387e-02,  7.5715e-02,  1.8456e-02,  5.1576e-04,  9.2899e-03],\n",
       "          [-1.7637e-02, -1.1067e-01, -2.8975e-03, -1.2211e-01, -9.7518e-02,\n",
       "           -1.5504e-02, -1.3385e-01, -1.5159e-01, -1.9169e-04, -3.6777e-02],\n",
       "          [ 1.7228e-02,  1.3524e-01,  2.8628e-02,  1.2065e-01,  1.2819e-01,\n",
       "            3.8871e-02,  2.2463e-01,  2.4271e-01,  2.1834e-03,  8.7495e-02]])),\n",
       " (torch.Size([10]),\n",
       "  tensor([ 0.1225, -0.0032, -0.0579,  0.0154, -0.0287,  0.0043,  0.1562,  0.1413,\n",
       "          -0.3167,  0.4547])),\n",
       " (torch.Size([10, 10]),\n",
       "  tensor([[-0.0557, -0.0265, -0.0355, -0.0005, -0.0283,  0.0041, -0.0162, -0.1167,\n",
       "           -0.0803, -0.0363],\n",
       "          [-0.0153,  0.0011,  0.0080, -0.0039, -0.0206,  0.0042, -0.0089, -0.1041,\n",
       "           -0.0202, -0.0355],\n",
       "          [ 0.0733,  0.0211,  0.0354,  0.0028,  0.0376, -0.0011,  0.0163,  0.1420,\n",
       "            0.0666,  0.0383],\n",
       "          [ 0.0118,  0.0111, -0.0047, -0.0005, -0.0040, -0.0015,  0.0007,  0.0075,\n",
       "           -0.0040,  0.0147],\n",
       "          [-0.0229, -0.0078, -0.0011, -0.0028, -0.0156, -0.0017, -0.0082, -0.0271,\n",
       "           -0.0167, -0.0125],\n",
       "          [-0.0504, -0.0089, -0.0172,  0.0038, -0.0226, -0.0019, -0.0030, -0.0515,\n",
       "           -0.0434, -0.0149],\n",
       "          [ 0.0543,  0.0458,  0.0469,  0.0114,  0.0419, -0.0014,  0.0451,  0.2113,\n",
       "            0.1192,  0.0840],\n",
       "          [-0.0478, -0.0476, -0.0546, -0.0121, -0.0263, -0.0026, -0.0407, -0.1771,\n",
       "           -0.0825, -0.0673],\n",
       "          [ 0.0353, -0.0002,  0.0180, -0.0008,  0.0298,  0.0030,  0.0006,  0.0225,\n",
       "            0.0478, -0.0080],\n",
       "          [ 0.0175,  0.0119,  0.0047,  0.0025,  0.0082, -0.0011,  0.0143,  0.0933,\n",
       "            0.0134,  0.0376]])),\n",
       " (torch.Size([10]),\n",
       "  tensor([-0.4087, -0.2150,  0.3542,  0.0897, -0.0565, -0.1565,  0.6075, -0.5210,\n",
       "           0.0764,  0.2298]))]"
      ]
     },
     "execution_count": 11,
     "metadata": {},
     "output_type": "execute_result"
    }
   ],
   "source": [
    "regularizer_dense = F_dense.vTMv(v_current - v1)\n",
    "regularizer_dense.backward()\n",
    "[(p.size(), p.grad) for p in model.parameters()]"
   ]
  },
  {
   "cell_type": "markdown",
   "metadata": {},
   "source": [
    "# Comparison of regularization obtained using different representations"
   ]
  },
  {
   "cell_type": "code",
   "execution_count": 12,
   "metadata": {
    "collapsed": true
   },
   "outputs": [],
   "source": [
    "model.zero_grad()\n",
    "regularizer_dense = F_dense.vTMv(v_current - v1)\n",
    "regularizer_dense.backward()\n",
    "g_dense = torch.cat([p.grad.view(-1) for p in model.parameters()])"
   ]
  },
  {
   "cell_type": "code",
   "execution_count": 13,
   "metadata": {
    "collapsed": true
   },
   "outputs": [],
   "source": [
    "model.zero_grad()\n",
    "regularizer_bd = F_blockdiag.vTMv(v_current - v1)\n",
    "regularizer_bd.backward()\n",
    "g_bd = torch.cat([p.grad.view(-1) for p in model.parameters()])"
   ]
  },
  {
   "cell_type": "code",
   "execution_count": 14,
   "metadata": {
    "collapsed": true
   },
   "outputs": [],
   "source": [
    "model.zero_grad()\n",
    "regularizer_kfac = F_kfac.vTMv(v_current - v1)\n",
    "regularizer_kfac.backward()\n",
    "g_kfac = torch.cat([p.grad.view(-1) for p in model.parameters()])"
   ]
  },
  {
   "cell_type": "code",
   "execution_count": 15,
   "metadata": {
    "collapsed": true
   },
   "outputs": [],
   "source": [
    "model.zero_grad()\n",
    "regularizer_ekfac = F_ekfac.vTMv(v_current - v1)\n",
    "regularizer_ekfac.backward()\n",
    "g_ekfac = torch.cat([p.grad.view(-1) for p in model.parameters()])"
   ]
  },
  {
   "cell_type": "code",
   "execution_count": 16,
   "metadata": {
    "collapsed": true
   },
   "outputs": [],
   "source": [
    "model.zero_grad()\n",
    "regularizer_diag = F_diag.vTMv(v_current - v1)\n",
    "regularizer_diag.backward()\n",
    "g_diag = torch.cat([p.grad.view(-1) for p in model.parameters()])"
   ]
  },
  {
   "cell_type": "code",
   "execution_count": null,
   "metadata": {
    "collapsed": false
   },
   "outputs": [],
   "source": [
    "plt.plot(g_kfac[:100].cpu().numpy(), label='kfac')\n",
    "plt.plot(g_ekfac[:100].cpu().numpy(), label='ekfac')\n",
    "plt.plot(g_diag[:100].cpu().numpy(), label='diag')\n",
    "plt.plot(g_dense[:100].cpu().numpy(), label='dense')\n",
    "plt.plot(g_bd[:100].cpu().numpy(), label='block diagonal')\n",
    "plt.legend()\n",
    "plt.title('Compare 100 elements of the gradient (first layer)')"
   ]
  },
  {
   "cell_type": "code",
   "execution_count": 1,
   "metadata": {
    "collapsed": false
   },
   "outputs": [
    {
     "ename": "NameError",
     "evalue": "name 'plt' is not defined",
     "output_type": "error",
     "traceback": [
      "\u001b[0;31m---------------------------------------------------------------------------\u001b[0m",
      "\u001b[0;31mNameError\u001b[0m                                 Traceback (most recent call last)",
      "\u001b[0;32m<ipython-input-1-b6c96de55117>\u001b[0m in \u001b[0;36m<module>\u001b[0;34m\u001b[0m\n\u001b[0;32m----> 1\u001b[0;31m \u001b[0mplt\u001b[0m\u001b[0;34m.\u001b[0m\u001b[0mplot\u001b[0m\u001b[0;34m(\u001b[0m\u001b[0mg_kfac\u001b[0m\u001b[0;34m[\u001b[0m\u001b[0;34m-\u001b[0m\u001b[0;36m100\u001b[0m\u001b[0;34m:\u001b[0m\u001b[0;34m]\u001b[0m\u001b[0;34m.\u001b[0m\u001b[0mcpu\u001b[0m\u001b[0;34m(\u001b[0m\u001b[0;34m)\u001b[0m\u001b[0;34m.\u001b[0m\u001b[0mnumpy\u001b[0m\u001b[0;34m(\u001b[0m\u001b[0;34m)\u001b[0m\u001b[0;34m,\u001b[0m \u001b[0mlabel\u001b[0m\u001b[0;34m=\u001b[0m\u001b[0;34m'kfac'\u001b[0m\u001b[0;34m)\u001b[0m\u001b[0;34m\u001b[0m\u001b[0;34m\u001b[0m\u001b[0m\n\u001b[0m\u001b[1;32m      2\u001b[0m \u001b[0mplt\u001b[0m\u001b[0;34m.\u001b[0m\u001b[0mplot\u001b[0m\u001b[0;34m(\u001b[0m\u001b[0mg_ekfac\u001b[0m\u001b[0;34m[\u001b[0m\u001b[0;34m-\u001b[0m\u001b[0;36m100\u001b[0m\u001b[0;34m:\u001b[0m\u001b[0;34m]\u001b[0m\u001b[0;34m.\u001b[0m\u001b[0mcpu\u001b[0m\u001b[0;34m(\u001b[0m\u001b[0;34m)\u001b[0m\u001b[0;34m.\u001b[0m\u001b[0mnumpy\u001b[0m\u001b[0;34m(\u001b[0m\u001b[0;34m)\u001b[0m\u001b[0;34m,\u001b[0m \u001b[0mlabel\u001b[0m\u001b[0;34m=\u001b[0m\u001b[0;34m'ekfac'\u001b[0m\u001b[0;34m)\u001b[0m\u001b[0;34m\u001b[0m\u001b[0;34m\u001b[0m\u001b[0m\n\u001b[1;32m      3\u001b[0m \u001b[0mplt\u001b[0m\u001b[0;34m.\u001b[0m\u001b[0mplot\u001b[0m\u001b[0;34m(\u001b[0m\u001b[0mg_diag\u001b[0m\u001b[0;34m[\u001b[0m\u001b[0;34m-\u001b[0m\u001b[0;36m100\u001b[0m\u001b[0;34m:\u001b[0m\u001b[0;34m]\u001b[0m\u001b[0;34m.\u001b[0m\u001b[0mcpu\u001b[0m\u001b[0;34m(\u001b[0m\u001b[0;34m)\u001b[0m\u001b[0;34m.\u001b[0m\u001b[0mnumpy\u001b[0m\u001b[0;34m(\u001b[0m\u001b[0;34m)\u001b[0m\u001b[0;34m,\u001b[0m \u001b[0mlabel\u001b[0m\u001b[0;34m=\u001b[0m\u001b[0;34m'diag'\u001b[0m\u001b[0;34m)\u001b[0m\u001b[0;34m\u001b[0m\u001b[0;34m\u001b[0m\u001b[0m\n\u001b[1;32m      4\u001b[0m \u001b[0mplt\u001b[0m\u001b[0;34m.\u001b[0m\u001b[0mplot\u001b[0m\u001b[0;34m(\u001b[0m\u001b[0mg_dense\u001b[0m\u001b[0;34m[\u001b[0m\u001b[0;34m-\u001b[0m\u001b[0;36m100\u001b[0m\u001b[0;34m:\u001b[0m\u001b[0;34m]\u001b[0m\u001b[0;34m.\u001b[0m\u001b[0mcpu\u001b[0m\u001b[0;34m(\u001b[0m\u001b[0;34m)\u001b[0m\u001b[0;34m.\u001b[0m\u001b[0mnumpy\u001b[0m\u001b[0;34m(\u001b[0m\u001b[0;34m)\u001b[0m\u001b[0;34m,\u001b[0m \u001b[0mlabel\u001b[0m\u001b[0;34m=\u001b[0m\u001b[0;34m'dense'\u001b[0m\u001b[0;34m)\u001b[0m\u001b[0;34m\u001b[0m\u001b[0;34m\u001b[0m\u001b[0m\n\u001b[1;32m      5\u001b[0m \u001b[0mplt\u001b[0m\u001b[0;34m.\u001b[0m\u001b[0mplot\u001b[0m\u001b[0;34m(\u001b[0m\u001b[0mg_bd\u001b[0m\u001b[0;34m[\u001b[0m\u001b[0;34m-\u001b[0m\u001b[0;36m100\u001b[0m\u001b[0;34m:\u001b[0m\u001b[0;34m]\u001b[0m\u001b[0;34m.\u001b[0m\u001b[0mcpu\u001b[0m\u001b[0;34m(\u001b[0m\u001b[0;34m)\u001b[0m\u001b[0;34m.\u001b[0m\u001b[0mnumpy\u001b[0m\u001b[0;34m(\u001b[0m\u001b[0;34m)\u001b[0m\u001b[0;34m,\u001b[0m \u001b[0mlabel\u001b[0m\u001b[0;34m=\u001b[0m\u001b[0;34m'block diagonal'\u001b[0m\u001b[0;34m)\u001b[0m\u001b[0;34m\u001b[0m\u001b[0;34m\u001b[0m\u001b[0m\n",
      "\u001b[0;31mNameError\u001b[0m: name 'plt' is not defined"
     ]
    }
   ],
   "source": [
    "plt.plot(g_kfac[-100:].cpu().numpy(), label='kfac')\n",
    "plt.plot(g_ekfac[-100:].cpu().numpy(), label='ekfac')\n",
    "plt.plot(g_diag[-100:].cpu().numpy(), label='diag')\n",
    "plt.plot(g_dense[-100:].cpu().numpy(), label='dense')\n",
    "plt.plot(g_bd[-100:].cpu().numpy(), label='block diagonal')\n",
    "plt.ylim(-.01, .01)\n",
    "plt.legend()\n",
    "plt.title('Compare 100 elements of the gradient (last layer)')"
   ]
  },
  {
   "cell_type": "code",
   "execution_count": null,
   "metadata": {
    "collapsed": true
   },
   "outputs": [],
   "source": []
  }
 ],
 "metadata": {
  "anaconda-cloud": {},
  "kernelspec": {
   "display_name": "tf_p36",
   "language": "python",
   "name": "tf_p36"
  },
  "language_info": {
   "codemirror_mode": {
    "name": "ipython",
    "version": 3
   },
   "file_extension": ".py",
   "mimetype": "text/x-python",
   "name": "python",
   "nbconvert_exporter": "python",
   "pygments_lexer": "ipython3",
   "version": "3.6.9"
  },
  "pycharm": {
   "stem_cell": {
    "cell_type": "raw",
    "source": [],
    "metadata": {
     "collapsed": false
    }
   }
  }
 },
 "nbformat": 4,
 "nbformat_minor": 4
}